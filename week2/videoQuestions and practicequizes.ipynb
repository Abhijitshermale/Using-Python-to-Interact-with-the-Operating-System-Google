{
 "cells": [
  {
   "cell_type": "markdown",
   "metadata": {},
   "source": [
    "**Question:** What is the difference between the readline() and read() methods?\n",
    "\n",
    "a]The readline() method starts from the current position, while the read() method reads the whole file.\n",
    "\n",
    "b]The read() method reads a single line, the readline() method reads the whole file.\n",
    "\n",
    "c]The readline() method reads the first line of the file, the read() method reads the whole file.\n",
    "\n",
    "**d]The readline() method reads a single line from the current position, the read() method reads from the current position until the end of the file.**"
   ]
  },
  {
   "cell_type": "markdown",
   "metadata": {},
   "source": [
    "**Question:** Can you identify which code snippet will correctly open a file and print lines one by one without whitespace?"
   ]
  },
  {
   "cell_type": "code",
   "execution_count": null,
   "metadata": {},
   "outputs": [],
   "source": [
    "# option a]\n",
    "with open(\"hello_world.txt\") as text:\n",
    "    for line in text:\n",
    "\t    print(line)\n"
   ]
  },
  {
   "cell_type": "code",
   "execution_count": null,
   "metadata": {},
   "outputs": [],
   "source": [
    "# option b]\n",
    "with open(\"hello_world.txt\") as text:\n",
    "    for line in text:\n",
    "\t    print(text)\n"
   ]
  },
  {
   "cell_type": "code",
   "execution_count": null,
   "metadata": {},
   "outputs": [],
   "source": [
    "# option c]\n",
    "with open(\"hello_world.txt\") as text:\n",
    "\tprint(line)\n"
   ]
  },
  {
   "cell_type": "code",
   "execution_count": null,
   "metadata": {},
   "outputs": [],
   "source": [
    "# option d]\n",
    "with open(\"hello_world.txt\") as text:\n",
    "    for line in text:\n",
    "\t    print(line.strip())"
   ]
  },
  {
   "cell_type": "markdown",
   "metadata": {},
   "source": [
    "**Correct option is D**"
   ]
  },
  {
   "cell_type": "markdown",
   "metadata": {},
   "source": [
    "**Question:** What happens to the previous contents of a file when we open it using \"w\" (\"write\" mode)?\n",
    "\n",
    "a]The new contents get added after the old contents.\n",
    "\n",
    "b]A new file is created and the old contents are kept in a copy.\n",
    "\n",
    "**c]The old contents get deleted as soon as we open the file.**\n",
    "\n",
    "d]The old contents get deleted after we close the file."
   ]
  },
  {
   "cell_type": "markdown",
   "metadata": {},
   "source": [
    "**Question:** Some more functions of the os.path module include getsize() and isfile() which get information on the file size and determine if a file exists, respectively. In the following code snippet, what do you think will print if the file does not exist?"
   ]
  },
  {
   "cell_type": "code",
   "execution_count": null,
   "metadata": {},
   "outputs": [],
   "source": [
    "import os\n",
    "file= \"file.dat\"\n",
    "if os.path.isfile(file):\n",
    "    print(os.path.isfile(file))\n",
    "    print(os.path.getsize(file))\n",
    "else:\n",
    "\tprint(os.path.isfile(file))\n",
    "    print(\"File not found\")\n"
   ]
  },
  {
   "cell_type": "markdown",
   "metadata": {},
   "source": [
    "a]file.dat\n",
    "\n",
    "  1024\n",
    "\n",
    "b]False\n",
    "\n",
    "  2048\n",
    "\n",
    "c]True\n",
    "\n",
    "  512\n",
    "\n",
    "**d]False**\n",
    "\n",
    "  **File not Found**"
   ]
  },
  {
   "cell_type": "markdown",
   "metadata": {},
   "source": [
    "**Question:** What's the purpose of the os.path.join function?\n",
    "\n",
    "**a]It creates a string containing cross-platform concatenated directories.**\n",
    "\n",
    "b]It creates new directories.\n",
    "\n",
    "c]It lists the file contents of a directory.\n",
    "\n",
    "d]It returns the current directory."
   ]
  },
  {
   "cell_type": "markdown",
   "metadata": {},
   "source": [
    "## Practice Quiz: Managing Files & Directories\n",
    "**Question 1:** The create_python_script function creates a new python script in the current working directory, adds the line of comments to it declared  by the 'comments' variable, and returns the size of the new file. Fill in the gaps to create a script called \"program.py\"."
   ]
  },
  {
   "cell_type": "code",
   "execution_count": null,
   "metadata": {},
   "outputs": [],
   "source": [
    "def create_python_script(filename):\n",
    "  comments = \"# Start of a new Python program\"\n",
    "  with open(filename,\"w\") as file:\n",
    "    \n",
    "    filesize = file.write(comments)\n",
    "  return(filesize)\n",
    "\n",
    "print(create_python_script(\"program.py\"))"
   ]
  },
  {
   "cell_type": "markdown",
   "metadata": {},
   "source": [
    "**Question 2:** The new_directory function creates a new directory inside the current working directory, then creates a new empty file inside the new directory, and returns the list of files in that directory. Fill in the gaps to create a file \"script.py\" in the directory \"PythonPrograms\". "
   ]
  },
  {
   "cell_type": "code",
   "execution_count": null,
   "metadata": {},
   "outputs": [],
   "source": [
    "import os\n",
    "\n",
    "def new_directory(directory, filename):\n",
    "  # Before creating a new directory, check to see if it already exists\n",
    "  if os.path.isdir(directory) == False:\n",
    "    os.mkdir(directory)\n",
    "\n",
    "  # Create the new file inside of the new directory\n",
    "  os.chdir(directory)\n",
    "  with open (filename,\"w\") as file:\n",
    "    pass\n",
    "\n",
    "  # Return the list of files in the new directory\n",
    "  return os.listdir()\n",
    "\n",
    "print(new_directory(\"PythonPrograms\", \"script.py\"))"
   ]
  },
  {
   "cell_type": "markdown",
   "metadata": {},
   "source": [
    "**Question 3:** Which of the following methods from the os module will create a new directory?\n",
    "\n",
    "a]path.isdir()\n",
    "\n",
    "b]listdir()\n",
    "\n",
    "**c]mkdir()**\n",
    "\n",
    "d]chdir()"
   ]
  },
  {
   "cell_type": "markdown",
   "metadata": {},
   "source": [
    "**Question 4:** The file_date function creates a new file in the current working directory, checks the date that the file was modified, and returns just the date portion of the timestamp in the format of yyyy-mm-dd. Fill in the gaps to create a file called \"newfile.txt\" and check the date that it was modified."
   ]
  },
  {
   "cell_type": "code",
   "execution_count": null,
   "metadata": {},
   "outputs": [],
   "source": [
    "import os\n",
    "import datetime\n",
    "\n",
    "def file_date(filename):\n",
    "  # Create the file in the current directory\n",
    "  with open (filename,\"w\") as file:\n",
    "    pass\n",
    "  timestamp = os.path.getmtime(filename)\n",
    "  # Convert the timestamp into a readable format, then into a string\n",
    "  file=datetime.datetime.fromtimestamp(timestamp)\n",
    "  # Return just the date portion \n",
    "  # Hint: how many characters are in “yyyy-mm-dd”? \n",
    "  return (\"{}\".format(file.strftime(\"%Y-%m-%d\")))\n",
    "\n",
    "print(file_date(\"newfile.txt\")) \n",
    "# Should be today's date in the format of yyyy-mm-dd"
   ]
  },
  {
   "cell_type": "markdown",
   "metadata": {},
   "source": [
    "**Question 5:** The parent_directory function returns the name of the directory that's located just above the current working directory. Remember that '..' is a relative path alias that means \"go up to the parent directory\". Fill in the gaps to complete this function."
   ]
  },
  {
   "cell_type": "code",
   "execution_count": null,
   "metadata": {},
   "outputs": [],
   "source": [
    "import os\n",
    "def parent_directory():\n",
    "  # Create a relative path to the parent \n",
    "  # of the current working directory \n",
    "  relative_parent = os.path.join('..', \"w\")\n",
    "\n",
    "  # Return the absolute path of the parent directory\n",
    "  return os.path.abspath('..')\n",
    "\n",
    "print(parent_directory())"
   ]
  },
  {
   "cell_type": "markdown",
   "metadata": {},
   "source": [
    "**Question:** If we have data in a format we understand, then we have what we need to parse the information from the file. What does parsing really mean?\n",
    "\n",
    "a]Writing data to a file in a format that can be easily read later\n",
    "\n",
    "b]Uploading a file to a remote server for later use, categorized by format\n",
    "\n",
    "**c]Using rules to understand a file or datastream as structured data.**\n",
    "\n",
    "d]Reducing the logical size of a file to decrease disk space used and increase network transmission speed."
   ]
  },
  {
   "cell_type": "markdown",
   "metadata": {},
   "source": [
    "**Question:** Which of the following lines would correctly interpret a CSV file called \"file\" using the CSV module? Assume that the CSV module has already been imported.\n",
    "\n",
    "a]data=csv.open(file)\n",
    "\n",
    "b]file.opencsv()\n",
    "\n",
    "**c]data=csv.reader(file)**\n",
    "\n",
    "d]data=file.csv()"
   ]
  },
  {
   "cell_type": "markdown",
   "metadata": {},
   "source": [
    "**Question:** Which of the following must we do before using the csv.writer() function?\n",
    "\n",
    "**a]Open the file with write permissions.**\n",
    "\n",
    "b]Import the functools module.\n",
    "\n",
    "c]Open the file with read permissions.\n",
    "\n",
    "d]Import the argparse module."
   ]
  },
  {
   "cell_type": "markdown",
   "metadata": {},
   "source": [
    "**Question:** DictReader() allows us to convert the data in a CSV file into a standard dictionary. DictWriter() \\ allows us to write data from a dictionary into a CSV file. What’s one parameter we must pass in order for DictWriter() to write our dictionary to CSV format?\n",
    "\n",
    "a]The DictReader() function must be passed the CSV file\n",
    "\n",
    "b]The writerows() function requires a list of key\n",
    "\n",
    "c]The writeheader() function requires a list of keys\n",
    "\n",
    "**d]The fieldnames parameter of DictWriter() requires a list of keys**"
   ]
  },
  {
   "cell_type": "markdown",
   "metadata": {},
   "source": [
    "## Practice Quiz: Reading & Writing CSV Files\n",
    "**Question 1:**We're working with a list of flowers and some information about each one. The create_file function writes this information to a CSV file. The contents_of_file function reads this file into records and returns the information in a nicely formatted block. Fill in the gaps of the contents_of_file function to turn the data in the CSV file into a dictionary using DictReader."
   ]
  },
  {
   "cell_type": "code",
   "execution_count": 2,
   "metadata": {},
   "outputs": [
    {
     "name": "stdout",
     "output_type": "stream",
     "text": [
      "a pink carnation is annual\n",
      "a yellow daffodil is perennial\n",
      "a blue iris is perennial\n",
      "a red poinsettia is perennial\n",
      "a yellow sunflower is annual\n",
      "\n"
     ]
    }
   ],
   "source": [
    "import os\n",
    "import csv\n",
    "\n",
    "# Create a file with data in it\n",
    "def create_file(filename):\n",
    "  with open(filename, \"w\") as file:\n",
    "    file.write(\"name,color,type\\n\")\n",
    "    file.write(\"carnation,pink,annual\\n\")\n",
    "    file.write(\"daffodil,yellow,perennial\\n\")\n",
    "    file.write(\"iris,blue,perennial\\n\")\n",
    "    file.write(\"poinsettia,red,perennial\\n\")\n",
    "    file.write(\"sunflower,yellow,annual\\n\")\n",
    "\n",
    "# Read the file contents and format the information about each row\n",
    "def contents_of_file(filename):\n",
    "  return_string = \"\"\n",
    "\n",
    "  # Call the function to create the file \n",
    "  create_file(filename)\n",
    "\n",
    "  # Open the file\n",
    "  with open(filename) as flower:\n",
    "\n",
    "    # Read the rows of the file into a dictionary\n",
    "    reader = csv.DictReader(flower)\n",
    "    \n",
    "    # Process each item of the dictionary\n",
    "    for row in reader:\n",
    "      return_string += \"a {} {} is {}\\n\".format(row[\"color\"], row[\"name\"], row[\"type\"])\n",
    "  return return_string\n",
    "\n",
    "#Call the function\n",
    "print(contents_of_file(\"flowers.csv\"))"
   ]
  },
  {
   "cell_type": "markdown",
   "metadata": {},
   "source": [
    "**Question 2:**Using the CSV file of flowers again, fill in the gaps of the contents_of_file function to process the data without turning it into a dictionary. How do you skip over the header record with the field names?"
   ]
  },
  {
   "cell_type": "code",
   "execution_count": 3,
   "metadata": {},
   "outputs": [
    {
     "name": "stdout",
     "output_type": "stream",
     "text": [
      "a pink carnation is annual\n",
      "a yellow daffodil is perennial\n",
      "a blue iris is perennial\n",
      "a red poinsettia is perennial\n",
      "a yellow sunflower is annual\n",
      "\n"
     ]
    }
   ],
   "source": [
    "import os\n",
    "import csv\n",
    "\n",
    "# Create a file with data in it\n",
    "def create_file(filename):\n",
    "  with open(filename, \"w\") as file:\n",
    "    file.write(\"name,color,type\\n\")\n",
    "    file.write(\"carnation,pink,annual\\n\")\n",
    "    file.write(\"daffodil,yellow,perennial\\n\")\n",
    "    file.write(\"iris,blue,perennial\\n\")\n",
    "    file.write(\"poinsettia,red,perennial\\n\")\n",
    "    file.write(\"sunflower,yellow,annual\\n\")\n",
    "\n",
    "# Read the file contents and format the information about each row\n",
    "def contents_of_file(filename):\n",
    "  return_string = \"\"\n",
    "\n",
    "  # Call the function to create the file \n",
    "  create_file(filename)\n",
    "\n",
    "  # Open the file\n",
    "  with open(filename) as f:\n",
    "\n",
    "    # Read the rows of the file\n",
    "    rows = csv.reader(f)\n",
    "    next(f)\n",
    "    # Process each row\n",
    "    for row in rows:\n",
    "      name,color,type = row\n",
    "      # Format the return string for data rows only\n",
    "\n",
    "      return_string += f\"a {color} {name} is {type}\\n\"\n",
    "  return return_string\n",
    "\n",
    "#Call the function\n",
    "print(contents_of_file(\"flowers.csv\"))"
   ]
  },
  {
   "cell_type": "markdown",
   "metadata": {},
   "source": [
    "**Question 3:** In order to use the writerows() function of DictWriter() to write a list of dictionaries to each line of a CSV file, what steps should we take? (Check all that apply)\n",
    "\n",
    "**a]Create an instance of the DictWriter() class**\n",
    "\n",
    "**b]Write the fieldnames parameter into the first row using writeheader()**\n",
    "\n",
    "**c]Open the csv file using with open**\n",
    "\n",
    "d]Import the OS module"
   ]
  },
  {
   "cell_type": "markdown",
   "metadata": {},
   "source": [
    "**Question 4:** Which of the following is true about unpacking values into variables when reading rows of a CSV file? (Check all that apply)\n",
    "\n",
    "**a]We need the same amount of variables as there are columns of data in the CSV**\n",
    "\n",
    "**b]Rows can be read using both csv.reader and csv.DictReader**\n",
    "\n",
    "**c]An instance of the reader class must be created first**\n",
    "\n",
    "d]The CSV file does not have to be explicitly opened"
   ]
  },
  {
   "cell_type": "markdown",
   "metadata": {},
   "source": [
    "**Question 5:** If we are analyzing a file's contents to correctly structure its data, what action are we performing on the file?\n",
    "\n",
    "a]Writing\n",
    "\n",
    "b]Appending\n",
    "\n",
    "**c]Parsing**\n",
    "\n",
    "d]Reading"
   ]
  }
 ],
 "metadata": {
  "kernelspec": {
   "display_name": "Python 3.10.4 64-bit",
   "language": "python",
   "name": "python3"
  },
  "language_info": {
   "codemirror_mode": {
    "name": "ipython",
    "version": 3
   },
   "file_extension": ".py",
   "mimetype": "text/x-python",
   "name": "python",
   "nbconvert_exporter": "python",
   "pygments_lexer": "ipython3",
   "version": "3.10.4"
  },
  "orig_nbformat": 4,
  "vscode": {
   "interpreter": {
    "hash": "8c3d4d9970fc5c09c50d9318a9c7fbf4d0159e4b28833276f5678ee22bded273"
   }
  }
 },
 "nbformat": 4,
 "nbformat_minor": 2
}
