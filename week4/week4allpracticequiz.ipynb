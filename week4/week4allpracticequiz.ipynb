{
 "cells": [
  {
   "cell_type": "markdown",
   "metadata": {},
   "source": [
    "## Practice Quiz: Data Streams\n",
    "**Question 1:** Which command will print out the exit value of a script that just ran successfully?\n",
    "\n",
    "a]echo $PATH\n",
    "\n",
    "b]import sys\n",
    "\n",
    "**c]echo $?**\n",
    "\n",
    "d]wc variables.py\n",
    "\n",
    "**Question 2:** Which command will create a new environment variable?\n",
    "\n",
    "a]input\n",
    "\n",
    "b]env\n",
    "\n",
    "**c]export**\n",
    "\n",
    "d]wc\n",
    "\n",
    "**Question 3:** Which I/O stream are we using when we use the input function to accept user input in a Python script?\n",
    "\n",
    "a]STDOUT\n",
    "\n",
    "b]STDERR\n",
    "\n",
    "**c]STDIN**\n",
    "\n",
    "d]SYS\n",
    "\n",
    "**Question 4:** What is the meaning of an exit code of 0?\n",
    "\n",
    "a]The program ended with an unspecified error.\n",
    "\n",
    "b]The program ended with a ValueError.\n",
    "\n",
    "c]The program ended with a TypeError.\n",
    "\n",
    "**d]The program ended successfully.**\n",
    "\n",
    "**Question 5:** Which statements are true about  input and raw_input in Python 2? (select all that apply)\n",
    "\n",
    "**a]input performs basic math operations.**\n",
    "\n",
    "b]raw_input performs basic math operations.\n",
    "\n",
    "**c]raw_input gets a string from the user.**\n",
    "\n",
    "d] input  gets a string from the user."
   ]
  },
  {
   "cell_type": "markdown",
   "metadata": {},
   "source": [
    "## Practice Quiz: Python Subprocesses\n",
    "**Question 1:** What type of object does a run function return?\n",
    "\n",
    "a]returncode\n",
    "\n",
    "b]capture_output\n",
    "\n",
    "**c]CompletedProcess**\n",
    "\n",
    "d]stdout\n",
    "\n",
    "**Question 2:** How can you change the current working directory where a command will be executed?\n",
    "\n",
    "**a]Use the cwd parameter.**\n",
    "\n",
    "b]Use the env parameter. \n",
    "\n",
    "c]Use the shell parameter.\n",
    "\n",
    "d]Use the capture_output parameter.\n",
    "\n",
    "**Question 3:** When a child process is run using the subprocess module, which of the following are true? (check all that apply)\n",
    "\n",
    "**a]The child process is run in a secondary environment.**\n",
    "\n",
    "**b]The parent process is blocked while the child process finishes.**\n",
    "\n",
    "c]The parent process and child process both run simultaneously. \n",
    "\n",
    "**d]Control is returned to the parent process when the child process ends.**\n",
    "\n",
    "**Question 4:** When using the run command of the subprocess module, what parameter, when set to True, allows us to store the output of a system command?\n",
    "\n",
    "a]cwd\n",
    "\n",
    "**b]capture_output**\n",
    "\n",
    "c]timeout\n",
    "\n",
    "d]shell\n",
    "\n",
    "**Question 5:** What does the copy method of os.environ do?\n",
    "\n",
    "**a]Creates a new dictionary of environment variables**\n",
    "\n",
    "b]Runs a second instance of an environment\n",
    "\n",
    "c]Joins two strings\n",
    "\n",
    "d]Removes a file from a directory"
   ]
  },
  {
   "cell_type": "markdown",
   "metadata": {},
   "source": [
    "## Practice Quiz: Processing Log Files"
   ]
  },
  {
   "cell_type": "markdown",
   "metadata": {},
   "source": [
    "**Question 1:** You have created a Python script to read a log of users running CRON jobs. The script needs to accept a command line argument for the path to the log file. Which line of code accomplishes this?\n",
    "\n",
    "a]import sys\n",
    "\n",
    "**b]syslog=sys.argv[1]**\n",
    "\n",
    "c]print(line.strip())\n",
    "\n",
    "d]usernames = {}"
   ]
  },
  {
   "cell_type": "markdown",
   "metadata": {},
   "source": [
    "**Question 2:** Which of the following is a data structure that can be used to count how many times a specific error appears in a log?\n",
    "\n",
    "a]Get\n",
    "\n",
    "b]Search\n",
    "\n",
    "**c]Dictionary**\n",
    "\n",
    "d]Continue"
   ]
  },
  {
   "cell_type": "markdown",
   "metadata": {},
   "source": [
    "**Question 3:** Which keyword will return control back to the top of a loop when iterating through logs?\n",
    "\n",
    "**a]Continue**\n",
    "\n",
    "b]Get\n",
    "\n",
    "c]With\n",
    "\n",
    "d]Search"
   ]
  },
  {
   "cell_type": "markdown",
   "metadata": {},
   "source": [
    "**Question 4:** When searching log files using regex, which regex statement will search for the alphanumeric word \"IP\" followed by one or more digits wrapped in parentheses using a capturing group?\n",
    "\n",
    "a]r\"IP \\(\\d+\\)$\"\n",
    "\n",
    "b]b\"IP \\((\\w+)\\)$\"\n",
    "\n",
    "**c]r\"IP \\((\\d+)\\)$\"**\n",
    "\n",
    "d]r\"IP \\((\\D+)\\)$\" "
   ]
  },
  {
   "cell_type": "markdown",
   "metadata": {},
   "source": [
    "**Question 5:** Which of the following are true about parsing log files? (Select all that apply.)\n",
    "\n",
    "a]Load the entire log files into memory.\n",
    "\n",
    "**b]You should parse log files line by line.**\n",
    "\n",
    "**c]It is efficient to ignore lines that don't contain the information we need.**\n",
    "\n",
    "**d]We have to open() the log files first.**"
   ]
  }
 ],
 "metadata": {
  "kernelspec": {
   "display_name": "Python 3.10.4 64-bit",
   "language": "python",
   "name": "python3"
  },
  "language_info": {
   "codemirror_mode": {
    "name": "ipython",
    "version": 3
   },
   "file_extension": ".py",
   "mimetype": "text/x-python",
   "name": "python",
   "nbconvert_exporter": "python",
   "pygments_lexer": "ipython3",
   "version": "3.10.4"
  },
  "orig_nbformat": 4,
  "vscode": {
   "interpreter": {
    "hash": "8c3d4d9970fc5c09c50d9318a9c7fbf4d0159e4b28833276f5678ee22bded273"
   }
  }
 },
 "nbformat": 4,
 "nbformat_minor": 2
}
