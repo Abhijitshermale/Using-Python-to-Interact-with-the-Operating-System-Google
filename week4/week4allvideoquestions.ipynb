{
 "cells": [
  {
   "cell_type": "markdown",
   "metadata": {},
   "source": [
    "**Question:** Which line of code from the seconds.py script will convert all integer inputs into seconds?\n",
    "\n",
    "a]int(input(\"Enter the number of seconds: \"))\n",
    "\n",
    "b]int(input(\"Enter the number of minutes: \"))\n",
    "\n",
    "c]int(input(\"Enter the number of hours: \"))\n",
    "\n",
    "**d]to_seconds(hours, minutes, seconds)**"
   ]
  },
  {
   "cell_type": "markdown",
   "metadata": {},
   "source": [
    "**Question:** Which I/O stream is the output function using when showing an error message?\n",
    "\n",
    "a]STDIN\n",
    "\n",
    "b]STDOUT\n",
    "\n",
    "**c]STDERR**\n",
    "\n",
    "d]PRINT"
   ]
  },
  {
   "cell_type": "markdown",
   "metadata": {},
   "source": [
    "**Question:** Which directory is NOT listed in the PATH variable by default?\n",
    "\n",
    "a]/usr/local/sbin\n",
    "\n",
    "**b]/usr/sbin/temp**\n",
    "\n",
    "c]/bin\n",
    "\n",
    "d]/sbin"
   ]
  },
  {
   "cell_type": "markdown",
   "metadata": {},
   "source": [
    "**Question:** Where are the command line arguments stored?\n",
    "\n",
    "a]argv\n",
    "\n",
    "**b]sys***\n",
    "\n",
    "c]parameters.py\n",
    "\n",
    "d]print"
   ]
  },
  {
   "cell_type": "markdown",
   "metadata": {},
   "source": [
    "**Question:** A system command that sends ICMP packets can be executed within a script by using which of the following?\n",
    "\n",
    "**a]subprocess.run**\n",
    "\n",
    "b]Ping\n",
    "\n",
    "c]CompletedProcess\n",
    "\n",
    "d]Arguments"
   ]
  },
  {
   "cell_type": "markdown",
   "metadata": {},
   "source": [
    "**Question:** Which of the following is a Unicode standard used to convert an array of bytes into a string?\n",
    "\n",
    "**a]UTF-8**\n",
    "\n",
    "b]stdout\n",
    "\n",
    "c]capture_output\n",
    "\n",
    "d]Host"
   ]
  },
  {
   "cell_type": "markdown",
   "metadata": {},
   "source": [
    "**Question:** Which method do you use to prepare a new environment to modify environment variables?\n",
    "\n",
    "a]join\n",
    "\n",
    "b]env\n",
    "\n",
    "**c]copy**\n",
    "\n",
    "d]cwd"
   ]
  },
  {
   "cell_type": "markdown",
   "metadata": {},
   "source": [
    "**Question::** We're using the same syslog, and we want to display the date, time, and process id that's inside the square brackets. We can read each line of the syslog and pass the contents to the show_time_of_pid function. Fill in the gaps to extract the date, time, and process id from the passed line, and return this format: Jul 6 14:01:23 pid:29440."
   ]
  },
  {
   "cell_type": "code",
   "execution_count": 2,
   "metadata": {},
   "outputs": [
    {
     "name": "stdout",
     "output_type": "stream",
     "text": [
      "Jul 6 14:01:23 pid:29440\n",
      "Jul 6 14:02:08 pid:29187\n",
      "Jul 6 14:02:09 pid:29187\n",
      "Jul 6 14:03:01 pid:29440\n",
      "Jul 6 14:03:40 pid:29807\n",
      "Jul 6 14:04:01 pid:29440\n",
      "Jul 6 14:05:01 pid:29440\n"
     ]
    }
   ],
   "source": [
    "import re\n",
    "def show_time_of_pid(line):\n",
    "  pattern = r\"^(\\w{3}\\s\\d\\s\\d{2}\\:\\d{2}\\:\\d{2}) [\\w\\.]+ [\\w=]+\\[(\\d{5})\\]\"\n",
    "    # pattern=r'^(\\w+ [0-9] [0-9]+:[0-9]+:[0-9]+) [\\w\\.]+ [\\w=]+\\[([0-9]+)\\]'\n",
    "  result = re.search(pattern, line)\n",
    "  return f\"{result[1]} pid:{result[2]}\"\n",
    "\n",
    "print(show_time_of_pid(\"Jul 6 14:01:23 computer.name CRON[29440]: USER (good_user)\")) # Jul 6 14:01:23 pid:29440\n",
    "\n",
    "print(show_time_of_pid(\"Jul 6 14:02:08 computer.name jam_tag=psim[29187]: (UUID:006)\")) # Jul 6 14:02:08 pid:29187\n",
    "\n",
    "print(show_time_of_pid(\"Jul 6 14:02:09 computer.name jam_tag=psim[29187]: (UUID:007)\")) # Jul 6 14:02:09 pid:29187\n",
    "\n",
    "print(show_time_of_pid(\"Jul 6 14:03:01 computer.name CRON[29440]: USER (naughty_user)\")) # Jul 6 14:03:01 pid:29440\n",
    "\n",
    "print(show_time_of_pid(\"Jul 6 14:03:40 computer.name cacheclient[29807]: start syncing from \\\"0xDEADBEEF\\\"\")) # Jul 6 14:03:40 pid:29807\n",
    "\n",
    "print(show_time_of_pid(\"Jul 6 14:04:01 computer.name CRON[29440]: USER (naughty_user)\")) # Jul 6 14:04:01 pid:29440\n",
    "\n",
    "print(show_time_of_pid(\"Jul 6 14:05:01 computer.name CRON[29440]: USER (naughty_user)\")) # Jul 6 14:05:01 pid:29440"
   ]
  },
  {
   "cell_type": "markdown",
   "metadata": {},
   "source": [
    "**Question:** Which of the following is a correct printout of a dictionary?\n",
    "\n",
    "**a]{'carrots':100, 'potatoes':50, 'cucumbers': 65}**\n",
    "\n",
    "**b]{50:'apples', 55:'peaches', 15:'banana'}**\n",
    "\n",
    "c]{55:apples, 55:peaches, 15:banana}\n",
    "\n",
    "d]{carrots:100, potatoes:50, cucumbers: 65}"
   ]
  }
 ],
 "metadata": {
  "kernelspec": {
   "display_name": "Python 3.10.4 64-bit",
   "language": "python",
   "name": "python3"
  },
  "language_info": {
   "codemirror_mode": {
    "name": "ipython",
    "version": 3
   },
   "file_extension": ".py",
   "mimetype": "text/x-python",
   "name": "python",
   "nbconvert_exporter": "python",
   "pygments_lexer": "ipython3",
   "version": "3.10.4"
  },
  "orig_nbformat": 4,
  "vscode": {
   "interpreter": {
    "hash": "8c3d4d9970fc5c09c50d9318a9c7fbf4d0159e4b28833276f5678ee22bded273"
   }
  }
 },
 "nbformat": 4,
 "nbformat_minor": 2
}
