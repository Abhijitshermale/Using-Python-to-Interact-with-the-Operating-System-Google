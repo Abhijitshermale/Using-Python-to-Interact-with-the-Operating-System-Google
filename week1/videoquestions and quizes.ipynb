{
 "cells": [
  {
   "cell_type": "markdown",
   "metadata": {},
   "source": [
    "**Question**: Which of the following is NOT an open-source OS?\n",
    "\n",
    "a]Ubuntu Linux\n",
    "\n",
    "b]FreeBSD\n",
    "\n",
    "c]Android\n",
    "\n",
    "**d]Microsoft Windows**"
   ]
  },
  {
   "cell_type": "markdown",
   "metadata": {},
   "source": [
    "**Question:**What is the name of the command line tool commonly used to install, update, and remove external Python modules mentioned in the video?\n",
    "\n",
    "**a]pip**\n",
    "\n",
    "b]PyPI\n",
    "\n",
    "c]python3 --version\n",
    "\n",
    "d]conda"
   ]
  },
  {
   "cell_type": "markdown",
   "metadata": {},
   "source": [
    "## Practice Quiz: Getting Ready for Python\n",
    "\n",
    "**Question 1:** Which of the following is the most modern, up-to-date version of Python?\n",
    "\n",
    "**a]Python 3**\n",
    "\n",
    "b]Python 2\n",
    "\n",
    "c]Python 4\n",
    "\n",
    "d]Anaconda\n",
    "\n",
    "**Question 2:**Which of the following operating systems is compatible with Python 3?\n",
    "\n",
    "a]Redhat Linux\n",
    "\n",
    "b]Microsoft Windows\n",
    "\n",
    "c]Apple MacOS\n",
    "\n",
    "**d]All of the above**\n",
    "\n",
    "**Question 3:** Which of the following operating systems does not run on a Linux kernel?\n",
    "\n",
    "a]Android\n",
    "\n",
    "b]Chrome OS\n",
    "\n",
    "c]Mac OS\n",
    "\n",
    "d]Ubuntu\n",
    "\n",
    "**Question 4:** If we want to check to see  what version of Python is installed, what would we type into the command line? Select all that apply.\n",
    "\n",
    "**a]python -V**\n",
    "\n",
    "**b]python --version**\n",
    "\n",
    "c]python --help\n",
    "\n",
    "d]python -v\n",
    "\n",
    "**Question 5:** What is pip an example of?\n",
    "\n",
    "a]A programming language\n",
    "\n",
    "b]An operating system\n",
    "\n",
    "c]A repository of Python modules\n",
    "\n",
    "**d]A Python package manager**"
   ]
  },
  {
   "cell_type": "markdown",
   "metadata": {},
   "source": [
    "**Question:** Which of the following programming languages are interpreted languages?\n",
    "\n",
    "a]Java and C#\n",
    "\n",
    "**b]Python and Javascript**\n",
    "\n",
    "c]C++ and Go\n",
    "\n",
    "d]C and Rust"
   ]
  },
  {
   "cell_type": "markdown",
   "metadata": {},
   "source": [
    "**Question:** What is the purpose of using a shebang line in a Python file?\n",
    "\n",
    "a]To tell the operating system where to find programs to execute.\n",
    "\n",
    "b]To tell the operating system to execute a file in the current directory.\n",
    "\n",
    "**c]To specify beforehand what command to use when running the script.**\n",
    "\n",
    "d]To make the specified file executable by changing permissions."
   ]
  },
  {
   "cell_type": "markdown",
   "metadata": {},
   "source": [
    "**Question:** Proper code reuse is important, so let’s see if you were paying attention. Which of the following lines will allow you to use the datetime module in your script?\n",
    "\n",
    "a]use datetime\n",
    "\n",
    "b]using datetime\n",
    "\n",
    "c]date_time = datetime\n",
    "\n",
    "**d]import datetime**"
   ]
  },
  {
   "cell_type": "markdown",
   "metadata": {},
   "source": []
  },
  {
   "cell_type": "markdown",
   "metadata": {},
   "source": [
    "**Question:** Which of the following is NOT an example of code completion?\n",
    "\n",
    "a]After you type the letters “ret”, your IDE finishes your sentence with return.\n",
    "\n",
    "b]After typing the opening parentheses after a function, your IDE inputs the final parentheses.\n",
    "\n",
    "**c]After typing “def”, your IDE detects that you are typing a function and highlights it.**\n",
    "\n",
    "d]After typing the first few letters of an existing variable, your IDE suggests that variable, highlighting the suggestion."
   ]
  },
  {
   "cell_type": "markdown",
   "metadata": {},
   "source": [
    "## Practice Quiz: Running Python Locally\n",
    "\n",
    "**Question 1:** When your IDE automatically creates an indent for you, this is known as what?\n",
    "\n",
    "**a]Code completion**\n",
    "\n",
    "b]Interpreted language\n",
    "\n",
    "c]Code reuse\n",
    "\n",
    "d]Syntax highlighting\n",
    "\n"
   ]
  },
  {
   "cell_type": "markdown",
   "metadata": {},
   "source": [
    "**Question 2:** Can you identify the error in the following code?"
   ]
  },
  {
   "cell_type": "code",
   "execution_count": null,
   "metadata": {},
   "outputs": [],
   "source": [
    "#!/usr/bin/env python3\n",
    "import numpy as np\n",
    "\n",
    "def numpyArray():\n",
    "    x = np.array([[1, 2, 3], [4, 5, 6]], np.int32)\n",
    "    y = numpy.array([[3, 6, 2], [9, 12, 8]], np.int32)\n",
    "    return x*y\n",
    "print(numpyArray())\n"
   ]
  },
  {
   "cell_type": "markdown",
   "metadata": {},
   "source": [
    "a]The function is not indented properly.\n",
    "\n",
    "b]The shebang line is not necessary.\n",
    "\n",
    "**c]The y variable is not calling the numpy module properly.**\n",
    "\n",
    "d]numpy is not imported correctly because as is used.\n",
    "\n",
    "**Question 3:** Which type of programming language is read and converted to machine code before runtime, allowing for more efficient code?\n",
    "\n",
    "a]Object-oriented language\n",
    "\n",
    "**b]Compiled language**\n",
    "\n",
    "c]Interpreted language\n",
    "\n",
    "d]Intermediate code\n",
    "\n",
    "**Question 4:**Which of the following is not an IDE or code editor?\n",
    "\n",
    "a]Eclipse\n",
    "\n",
    "**b]pip**\n",
    "\n",
    "c]Atom\n",
    "\n",
    "d]PyCharm\n",
    "\n",
    "**Question 5:** What does the PATH variable do?\n",
    "\n",
    "**a]Tells the operating system where to find executables**\n",
    "\n",
    "b]Returns the current working directory\n",
    "\n",
    "c]Holds the command line arguments of your Python program in a list\n",
    "\n",
    "d]Tells the operating system where to cache frequently used files"
   ]
  },
  {
   "cell_type": "markdown",
   "metadata": {},
   "source": [
    "**Question:** In terms of automation, which of the following is an example of scalability?\n",
    "\n",
    "a]You fix an error in a script and it’s fixed there, once and forever.\n",
    "\n",
    "**b]An IT engineer writes a script to compile a report on each machine's uptime and downtime for the day and email it to relevant parties every evening.** \n",
    "\n",
    "c]A company hires more IT staff to keep up with work levels.\n",
    "\n",
    "d]Minimizing workloads to stay within current productivity levels"
   ]
  },
  {
   "cell_type": "markdown",
   "metadata": {},
   "source": [
    "**Question:** Which of the following could be a good example of when to use an automation script?\n",
    "\n",
    "a]Automate a five-minute process that occurs once every six months\n",
    "\n",
    "b]Automate a process that will take longer to implement than it takes to do manually\n",
    "\n",
    "**c]Detect dangerously high CPU usage levels across a network and scale back the CPU clock speeds of those devices, or shut them down to prevent overheating**\n",
    "\n",
    "d]Automate a process you might never use again"
   ]
  },
  {
   "cell_type": "markdown",
   "metadata": {},
   "source": [
    "## Practice Quiz: Automation\n",
    "\n",
    "**Question 1:** At a manufacturing plant, an employee spends several minutes each hour noting uptime and downtime for each of the machines they are running. Which of the following ideas would best automate this process?\n",
    "\n",
    "a]Provide a tablet computer to the employee to record uptime and downtime\n",
    "\n",
    "b]Hire an extra employee to track uptime and downtime for each machine\n",
    "\n",
    "**c]Add an analog Internet of Things (IoT) module to each machine, in order to detect their power states, and write a script that records uptime and downtime, reporting hourly**\n",
    "\n",
    "d]Add an analog IoT module to each machine, in order to detect their power states, and attach lights that change color according to the power state of the machine\n",
    "\n",
    "**Question 2:** One important aspect of automation is forensic value. Which of the following statements describes this term correctly?\n",
    "\n",
    "**a]It is important for automated processes to leave extensive logs so when errors occur, they can be properly investigated.**\n",
    "\n",
    "b]It's important to have staff trained on how automation processes work so they can be maintained and fixed when they fail.\n",
    "\n",
    "c]It's important to organize logs in a way that makes debugging easier.\n",
    "\n",
    "d]It's important to remember that 20% of our tasks as system administrators is responsible for 80% of our total workload.\n",
    "\n",
    "**Question 3:** An employee at a technical support company is required to collate reports into a single file and send that file via email three times a day, five days a week for one month, on top of his other duties. It takes him about 15 minutes each time. He has discovered a way to automate the process, but it will take him at least 10 hours to code the automation script. Which of the following equations will help them decide whether it's worth automating the process?\n",
    "\n",
    "a]if [10 hours to automate > (15 minutes * 60 times per month)] then automate\n",
    "\n",
    "**b]if [10 hours to automate < (15 minutes * 60 times per month)] then automate**\n",
    "\n",
    "c]if [(10 hours to automate + 15 minutes) > 60 times per month)] then automate\n",
    "\n",
    "d][(10 hours to automate / 60 times per month) < 15 minutes]\n",
    "\n",
    "**Question 4:** A company is looking at automating one of their internal processes and wants to determine if automating a process would save labor time this year. The company uses the formula [time_to_automate < (time_to_perform * amount_of_times_done) to decide whether automation is worthwhile. The process normally takes about 10 minutes every week. The automation process itself will take 40 hours total to complete. Using the formula, how many weeks will it be before the company starts saving time on the process?\n",
    "\n",
    "a]6 weeks\n",
    "\n",
    "b]2 weeks \n",
    "\n",
    "c]24 weeks\n",
    "\n",
    "**d]240 weeks**\n",
    "\n",
    "**Question 5:**Which of the following are valid methods to prevent silent automation errors? (Check all that apply)\n",
    "\n",
    "**a]Email notifications about errors**\n",
    "\n",
    "**b]Internal issue tracker entries**\n",
    "\n",
    "c]Constant human oversight\n",
    "\n",
    "**d]Regular consistency checks**"
   ]
  },
  {
   "cell_type": "markdown",
   "metadata": {},
   "source": [
    "**Question:** What is a virtual machine?\n",
    "\n",
    "a]An internet-connected computer\n",
    "\n",
    "b]Cloud-based storage\n",
    "\n",
    "c]A command that allows you to interact with remote Linux computers\n",
    "\n",
    "**d]Simulated hardware**"
   ]
  },
  {
   "cell_type": "markdown",
   "metadata": {},
   "source": []
  }
 ],
 "metadata": {
  "kernelspec": {
   "display_name": "Python 3.10.4 64-bit",
   "language": "python",
   "name": "python3"
  },
  "language_info": {
   "codemirror_mode": {
    "name": "ipython",
    "version": 3
   },
   "file_extension": ".py",
   "mimetype": "text/x-python",
   "name": "python",
   "nbconvert_exporter": "python",
   "pygments_lexer": "ipython3",
   "version": "3.10.4"
  },
  "orig_nbformat": 4,
  "vscode": {
   "interpreter": {
    "hash": "8c3d4d9970fc5c09c50d9318a9c7fbf4d0159e4b28833276f5678ee22bded273"
   }
  }
 },
 "nbformat": 4,
 "nbformat_minor": 2
}
